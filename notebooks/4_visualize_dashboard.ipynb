{
 "cells": [
  {
   "cell_type": "code",
   "execution_count": null,
   "id": "4bdd50a0-0035-4bad-940e-a647a97b6510",
   "metadata": {},
   "outputs": [],
   "source": [
    "import boto3\n",
    "import os\n",
    "import json\n",
    "import pandas as pd\n",
    "import matplotlib.pyplot as plt\n",
    "import tarfile\n",
    "\n",
    "# Config\n",
    "bucket = \"c144972a3751929l10036967t1w533267341463-bucket-pp6e047xcla7\" #enter your bucket name here\n",
    "key = \"comprehend/output/output.tar.gz\" #enter the output path\n",
    "local_tar_path = \"/tmp/output.tar.gz\"\n",
    "extract_dir = \"/tmp/comprehend_output\"\n",
    "\n",
    "s3 = boto3.client(\"s3\")\n",
    "s3.download_file(bucket, key, local_tar_path)\n",
    "\n",
    "# Extract\n",
    "os.makedirs(extract_dir, exist_ok=True)\n",
    "with tarfile.open(local_tar_path, \"r:gz\") as tar:\n",
    "    tar.extractall(path=extract_dir)\n",
    "\n",
    "print(\"Extracted:\", os.listdir(extract_dir))\n",
    "\n",
    "# Parse JSON\n",
    "results = []\n",
    "json_path = os.path.join(extract_dir, \"output\")\n",
    "with open(json_path) as f:\n",
    "    for line in f:\n",
    "        try:\n",
    "            data = json.loads(line)\n",
    "            for phrase in data.get(\"KeyPhrases\", []):\n",
    "                results.append({\n",
    "                    \"Text\": phrase.get(\"Text\", \"\"),\n",
    "                    \"Score\": phrase.get(\"Score\", 0.0)\n",
    "                })\n",
    "        except json.JSONDecodeError:\n",
    "            pass\n",
    "\n",
    "df_phrases = pd.DataFrame(results)\n",
    "df_phrases = df_phrases.sort_values(by=\"Score\", ascending=False)\n",
    "\n",
    "# Visualize\n",
    "top_phrases = df_phrases[\"Text\"].value_counts().head(15)\n",
    "\n",
    "plt.figure(figsize=(10, 6))\n",
    "top_phrases.plot(kind=\"barh\")\n",
    "plt.xlabel(\"Frequency\")\n",
    "plt.title(\"Top 15 Key Phrases Across All Videos\")\n",
    "plt.gca().invert_yaxis()\n",
    "plt.tight_layout()\n",
    "plt.show()\n"
   ]
  }
 ],
 "metadata": {
  "kernelspec": {
   "display_name": "Python 3 (ipykernel)",
   "language": "python",
   "name": "python3"
  },
  "language_info": {
   "codemirror_mode": {
    "name": "ipython",
    "version": 3
   },
   "file_extension": ".py",
   "mimetype": "text/x-python",
   "name": "python",
   "nbconvert_exporter": "python",
   "pygments_lexer": "ipython3",
   "version": "3.12.4"
  }
 },
 "nbformat": 4,
 "nbformat_minor": 5
}
