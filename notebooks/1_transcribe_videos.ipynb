{
 "cells": [
  {
   "cell_type": "code",
   "execution_count": null,
   "id": "8d3bc487-85a3-4e42-a08c-b1565b38ce9d",
   "metadata": {},
   "outputs": [],
   "source": [
    "import boto3\n",
    "import uuid\n",
    "\n",
    "# Configuration\n",
    "region = \"us-east-1\"\n",
    "bucket = \"c144972a3751929l10036967t1w533267341463-bucket-pp6e047xcla7\" #enter your bucket name here\n",
    "prefix = \"video/\"\n",
    "output_bucket = bucket\n",
    "video_files = [\n",
    "    \"Mod01_Course Overview.mp4\", \"Mod02_Intro.mp4\"\n",
    "]\n",
    "\n",
    "transcribe = boto3.client('transcribe', region_name=region)\n",
    "job_names = []\n",
    "\n",
    "# Submit transcription jobs\n",
    "for video_file in video_files:\n",
    "    s3_uri = f\"s3://{bucket}/{prefix}{video_file}\"\n",
    "    job_name = f\"transcribe-job-{str(uuid.uuid4())[:8]}\"\n",
    "    job_names.append(job_name)\n",
    "\n",
    "    try:\n",
    "        transcribe.start_transcription_job(\n",
    "            TranscriptionJobName=job_name,\n",
    "            Media={'MediaFileUri': s3_uri},\n",
    "            MediaFormat='mp4',\n",
    "            LanguageCode='en-US',\n",
    "            OutputBucketName=output_bucket\n",
    "        )\n",
    "        print(f\"Started transcription: {job_name}\")\n",
    "    except Exception as e:\n",
    "        print(f\"Error for {video_file}: {e}\")\n"
   ]
  }
 ],
 "metadata": {
  "kernelspec": {
   "display_name": "Python 3 (ipykernel)",
   "language": "python",
   "name": "python3"
  },
  "language_info": {
   "codemirror_mode": {
    "name": "ipython",
    "version": 3
   },
   "file_extension": ".py",
   "mimetype": "text/x-python",
   "name": "python",
   "nbconvert_exporter": "python",
   "pygments_lexer": "ipython3",
   "version": "3.12.4"
  }
 },
 "nbformat": 4,
 "nbformat_minor": 5
}
