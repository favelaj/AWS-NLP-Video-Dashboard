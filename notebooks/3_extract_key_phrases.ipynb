{
 "cells": [
  {
   "cell_type": "code",
   "execution_count": null,
   "id": "7cd98d6c-e9f7-4373-a219-833190c6cad4",
   "metadata": {},
   "outputs": [],
   "source": [
    "import boto3\n",
    "import os\n",
    "\n",
    "s3 = boto3.client(\"s3\")\n",
    "bucket = \"c144972a3751929l10036967t1w533267341463-bucket-pp6e047xcla7\" #enter your bucket name here\n",
    "input_prefix = \"comprehend/input/\"\n",
    "local_dir = \"/tmp/comprehend_texts\"\n",
    "os.makedirs(local_dir, exist_ok=True)\n",
    "\n",
    "uploaded = []\n",
    "\n",
    "# Upload normalized texts\n",
    "for _, row in df_transcripts.iterrows():\n",
    "    if not row[\"normalized_text\"] or row[\"normalized_text\"].startswith(\"ERROR\"):\n",
    "        continue\n",
    "    path = f\"{local_dir}/{row['job_id']}.txt\"\n",
    "    with open(path, \"w\") as f:\n",
    "        f.write(row[\"normalized_text\"])\n",
    "    key = f\"{input_prefix}{row['job_id']}.txt\"\n",
    "    s3.upload_file(path, bucket, key)\n",
    "    uploaded.append(key)\n",
    "\n",
    "print(f\"Uploaded {len(uploaded)} files.\")\n",
    "\n",
    "# Start Comprehend job\n",
    "comprehend = boto3.client(\"comprehend\", region_name=\"us-east-1\")\n",
    "job_name = f\"keyphrase-job-{str(uuid.uuid4())[:8]}\"\n",
    "s3_input_uri = f\"s3://{bucket}/{input_prefix}\"\n",
    "s3_output_uri = f\"s3://{bucket}/comprehend/output/\"\n",
    "role_arn = \"your-comprehend-role-arn\"\n",
    "\n",
    "response = comprehend.start_key_phrases_detection_job(\n",
    "    JobName=job_name,\n",
    "    DataAccessRoleArn=role_arn,\n",
    "    InputDataConfig={\"S3Uri\": s3_input_uri, \"InputFormat\": \"ONE_DOC_PER_FILE\"},\n",
    "    OutputDataConfig={\"S3Uri\": s3_output_uri},\n",
    "    LanguageCode=\"en\"\n",
    ")\n",
    "\n",
    "print(f\"Started Comprehend job: {job_name}\")"
   ]
  }
 ],
 "metadata": {
  "kernelspec": {
   "display_name": "Python 3 (ipykernel)",
   "language": "python",
   "name": "python3"
  },
  "language_info": {
   "codemirror_mode": {
    "name": "ipython",
    "version": 3
   },
   "file_extension": ".py",
   "mimetype": "text/x-python",
   "name": "python",
   "nbconvert_exporter": "python",
   "pygments_lexer": "ipython3",
   "version": "3.12.4"
  }
 },
 "nbformat": 4,
 "nbformat_minor": 5
}
