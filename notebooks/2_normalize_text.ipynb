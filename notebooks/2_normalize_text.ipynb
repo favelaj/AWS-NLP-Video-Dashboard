{
 "cells": [
  {
   "cell_type": "code",
   "execution_count": null,
   "id": "30b88792-ae4b-4286-bb6c-5cf220d23008",
   "metadata": {},
   "outputs": [],
   "source": [
    "import boto3\n",
    "import json\n",
    "import pandas as pd\n",
    "import re\n",
    "\n",
    "s3 = boto3.client(\"s3\")\n",
    "bucket = \"c144972a3751929l10036967t1w533267341463-bucket-pp6e047xcla7\" #enter your bucket name here\n",
    "transcript_prefix = \"transcribe-job-\"\n",
    "job_ids = [\n",
    "    \"abc12345\", \"def67890\"\n",
    "]\n",
    "\n",
    "def normalize(text):\n",
    "    text = text.lower()\n",
    "    text = re.sub(r\"[^\\w\\s]\", \"\", text)\n",
    "    text = re.sub(r\"\\s+\", \" \", text)\n",
    "    return text.strip()\n",
    "\n",
    "all_transcripts = []\n",
    "\n",
    "for job_id in job_ids:\n",
    "    key = f\"{transcript_prefix}{job_id}.json\"\n",
    "    try:\n",
    "        response = s3.get_object(Bucket=bucket, Key=key)\n",
    "        data = json.loads(response[\"Body\"].read())\n",
    "        raw = data[\"results\"][\"transcripts\"][0][\"transcript\"]\n",
    "        norm = normalize(raw)\n",
    "        all_transcripts.append({\n",
    "            \"job_id\": job_id,\n",
    "            \"raw_text\": raw,\n",
    "            \"normalized_text\": norm\n",
    "        })\n",
    "        print(f\"Downloaded: {key}\")\n",
    "    except Exception as e:\n",
    "        print(f\"Failed: {key} — {e}\")\n",
    "        all_transcripts.append({\n",
    "            \"job_id\": job_id,\n",
    "            \"raw_text\": None,\n",
    "            \"normalized_text\": f\"ERROR: {e}\"\n",
    "        })\n",
    "\n",
    "df_transcripts = pd.DataFrame(all_transcripts)\n",
    "df_transcripts.head()\n"
   ]
  }
 ],
 "metadata": {
  "kernelspec": {
   "display_name": "Python 3 (ipykernel)",
   "language": "python",
   "name": "python3"
  },
  "language_info": {
   "codemirror_mode": {
    "name": "ipython",
    "version": 3
   },
   "file_extension": ".py",
   "mimetype": "text/x-python",
   "name": "python",
   "nbconvert_exporter": "python",
   "pygments_lexer": "ipython3",
   "version": "3.12.4"
  }
 },
 "nbformat": 4,
 "nbformat_minor": 5
}
